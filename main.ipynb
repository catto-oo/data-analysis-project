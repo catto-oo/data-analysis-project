{
 "cells": [
  {
   "cell_type": "markdown",
   "id": "325b499d-af77-4e2a-8d13-7bcbf5af2406",
   "metadata": {},
   "source": [
    "# test"
   ]
  },
  {
   "cell_type": "code",
   "execution_count": null,
   "id": "fc7781c8-a1d8-4fc1-925c-1bbfb8ce190e",
   "metadata": {},
   "outputs": [],
   "source": [
    "print(\"change to rst\")"
   ]
  }
 ],
 "metadata": {
  "kernelspec": {
   "display_name": "Python 3 (ipykernel)",
   "language": "python",
   "name": "python3"
  },
  "language_info": {
   "codemirror_mode": {
    "name": "ipython",
    "version": 3
   },
   "file_extension": ".py",
   "mimetype": "text/x-python",
   "name": "python",
   "nbconvert_exporter": "python",
   "pygments_lexer": "ipython3",
   "version": "3.12.7"
  }
 },
 "nbformat": 4,
 "nbformat_minor": 5
}
